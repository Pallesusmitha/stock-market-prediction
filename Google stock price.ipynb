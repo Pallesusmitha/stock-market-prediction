{
 "cells": [
  {
   "cell_type": "code",
   "execution_count": 1,
   "metadata": {},
   "outputs": [],
   "source": [
    "import numpy as np \n",
    "import pandas as pd \n",
    "import matplotlib.pyplot as plt \n",
    "from sklearn.preprocessing import MinMaxScaler\n",
    "from keras.models import Sequential\n",
    "from keras.layers import Dense,LSTM,Dropout"
   ]
  },
  {
   "cell_type": "code",
   "execution_count": 2,
   "metadata": {},
   "outputs": [
    {
     "data": {
      "text/html": [
       "<div>\n",
       "<style scoped>\n",
       "    .dataframe tbody tr th:only-of-type {\n",
       "        vertical-align: middle;\n",
       "    }\n",
       "\n",
       "    .dataframe tbody tr th {\n",
       "        vertical-align: top;\n",
       "    }\n",
       "\n",
       "    .dataframe thead th {\n",
       "        text-align: right;\n",
       "    }\n",
       "</style>\n",
       "<table border=\"1\" class=\"dataframe\">\n",
       "  <thead>\n",
       "    <tr style=\"text-align: right;\">\n",
       "      <th></th>\n",
       "      <th>Date</th>\n",
       "      <th>Open</th>\n",
       "      <th>High</th>\n",
       "      <th>Low</th>\n",
       "      <th>Close</th>\n",
       "      <th>Volume</th>\n",
       "    </tr>\n",
       "  </thead>\n",
       "  <tbody>\n",
       "    <tr>\n",
       "      <th>0</th>\n",
       "      <td>1/3/2012</td>\n",
       "      <td>325.25</td>\n",
       "      <td>332.83</td>\n",
       "      <td>324.97</td>\n",
       "      <td>663.59</td>\n",
       "      <td>7,380,500</td>\n",
       "    </tr>\n",
       "    <tr>\n",
       "      <th>1</th>\n",
       "      <td>1/4/2012</td>\n",
       "      <td>331.27</td>\n",
       "      <td>333.87</td>\n",
       "      <td>329.08</td>\n",
       "      <td>666.45</td>\n",
       "      <td>5,749,400</td>\n",
       "    </tr>\n",
       "    <tr>\n",
       "      <th>2</th>\n",
       "      <td>1/5/2012</td>\n",
       "      <td>329.83</td>\n",
       "      <td>330.75</td>\n",
       "      <td>326.89</td>\n",
       "      <td>657.21</td>\n",
       "      <td>6,590,300</td>\n",
       "    </tr>\n",
       "    <tr>\n",
       "      <th>3</th>\n",
       "      <td>1/6/2012</td>\n",
       "      <td>328.34</td>\n",
       "      <td>328.77</td>\n",
       "      <td>323.68</td>\n",
       "      <td>648.24</td>\n",
       "      <td>5,405,900</td>\n",
       "    </tr>\n",
       "    <tr>\n",
       "      <th>4</th>\n",
       "      <td>1/9/2012</td>\n",
       "      <td>322.04</td>\n",
       "      <td>322.29</td>\n",
       "      <td>309.46</td>\n",
       "      <td>620.76</td>\n",
       "      <td>11,688,800</td>\n",
       "    </tr>\n",
       "  </tbody>\n",
       "</table>\n",
       "</div>"
      ],
      "text/plain": [
       "       Date    Open    High     Low   Close      Volume\n",
       "0  1/3/2012  325.25  332.83  324.97  663.59   7,380,500\n",
       "1  1/4/2012  331.27  333.87  329.08  666.45   5,749,400\n",
       "2  1/5/2012  329.83  330.75  326.89  657.21   6,590,300\n",
       "3  1/6/2012  328.34  328.77  323.68  648.24   5,405,900\n",
       "4  1/9/2012  322.04  322.29  309.46  620.76  11,688,800"
      ]
     },
     "execution_count": 2,
     "metadata": {},
     "output_type": "execute_result"
    }
   ],
   "source": [
    "data = pd.read_csv('Google_train_data.csv')\n",
    "data.head()"
   ]
  },
  {
   "cell_type": "code",
   "execution_count": 3,
   "metadata": {},
   "outputs": [
    {
     "name": "stdout",
     "output_type": "stream",
     "text": [
      "<class 'pandas.core.frame.DataFrame'>\n",
      "RangeIndex: 1258 entries, 0 to 1257\n",
      "Data columns (total 6 columns):\n",
      " #   Column  Non-Null Count  Dtype  \n",
      "---  ------  --------------  -----  \n",
      " 0   Date    1258 non-null   object \n",
      " 1   Open    1258 non-null   float64\n",
      " 2   High    1258 non-null   float64\n",
      " 3   Low     1258 non-null   float64\n",
      " 4   Close   1258 non-null   object \n",
      " 5   Volume  1258 non-null   object \n",
      "dtypes: float64(3), object(3)\n",
      "memory usage: 59.1+ KB\n"
     ]
    }
   ],
   "source": [
    "data.info()"
   ]
  },
  {
   "cell_type": "code",
   "execution_count": 4,
   "metadata": {},
   "outputs": [],
   "source": [
    "data[\"Close\"]=pd.to_numeric(data.Close,errors='coerce')\n",
    "data = data.dropna()\n",
    "trainData = data.iloc[:,4:5].values"
   ]
  },
  {
   "cell_type": "code",
   "execution_count": 5,
   "metadata": {},
   "outputs": [
    {
     "name": "stdout",
     "output_type": "stream",
     "text": [
      "<class 'pandas.core.frame.DataFrame'>\n",
      "Index: 1149 entries, 0 to 1257\n",
      "Data columns (total 6 columns):\n",
      " #   Column  Non-Null Count  Dtype  \n",
      "---  ------  --------------  -----  \n",
      " 0   Date    1149 non-null   object \n",
      " 1   Open    1149 non-null   float64\n",
      " 2   High    1149 non-null   float64\n",
      " 3   Low     1149 non-null   float64\n",
      " 4   Close   1149 non-null   float64\n",
      " 5   Volume  1149 non-null   object \n",
      "dtypes: float64(4), object(2)\n",
      "memory usage: 62.8+ KB\n"
     ]
    }
   ],
   "source": [
    "data.info()"
   ]
  },
  {
   "cell_type": "code",
   "execution_count": 6,
   "metadata": {},
   "outputs": [
    {
     "data": {
      "text/plain": [
       "(1149, 1)"
      ]
     },
     "execution_count": 6,
     "metadata": {},
     "output_type": "execute_result"
    }
   ],
   "source": [
    "sc = MinMaxScaler(feature_range=(0,1))\n",
    "trainData = sc.fit_transform(trainData)\n",
    "trainData.shape"
   ]
  },
  {
   "cell_type": "code",
   "execution_count": 7,
   "metadata": {},
   "outputs": [],
   "source": [
    "X_train = []\n",
    "y_train = []\n",
    "\n",
    "for i in range (60,1149): #60 : timestep // 1149 : length of the data\n",
    "    X_train.append(trainData[i-60:i,0]) \n",
    "    y_train.append(trainData[i,0])\n",
    "\n",
    "X_train,y_train = np.array(X_train),np.array(y_train)"
   ]
  },
  {
   "cell_type": "code",
   "execution_count": 8,
   "metadata": {},
   "outputs": [
    {
     "data": {
      "text/plain": [
       "(1089, 60, 1)"
      ]
     },
     "execution_count": 8,
     "metadata": {},
     "output_type": "execute_result"
    }
   ],
   "source": [
    "X_train = np.reshape(X_train,(X_train.shape[0],X_train.shape[1],1)) #adding the batch_size axis\n",
    "X_train.shape"
   ]
  },
  {
   "cell_type": "code",
   "execution_count": 9,
   "metadata": {},
   "outputs": [
    {
     "name": "stderr",
     "output_type": "stream",
     "text": [
      "c:\\Users\\shrey\\AppData\\Local\\Programs\\Python\\Python312\\Lib\\site-packages\\keras\\src\\layers\\rnn\\rnn.py:204: UserWarning: Do not pass an `input_shape`/`input_dim` argument to a layer. When using Sequential models, prefer using an `Input(shape)` object as the first layer in the model instead.\n",
      "  super().__init__(**kwargs)\n"
     ]
    }
   ],
   "source": [
    "model = Sequential()\n",
    "\n",
    "model.add(LSTM(units=100, return_sequences = True, input_shape =(X_train.shape[1],1)))\n",
    "model.add(Dropout(0.2))\n",
    "\n",
    "model.add(LSTM(units=100, return_sequences = True))\n",
    "model.add(Dropout(0.2))\n",
    "\n",
    "model.add(LSTM(units=100, return_sequences = True))\n",
    "model.add(Dropout(0.2))\n",
    "\n",
    "model.add(LSTM(units=100, return_sequences = False))\n",
    "model.add(Dropout(0.2))\n",
    "\n",
    "model.add(Dense(units =1))\n",
    "model.compile(optimizer='adam',loss=\"mean_squared_error\")"
   ]
  },
  {
   "cell_type": "code",
   "execution_count": 10,
   "metadata": {},
   "outputs": [
    {
     "name": "stdout",
     "output_type": "stream",
     "text": [
      "Epoch 1/20\n",
      "35/35 - 19s - 539ms/step - loss: 0.0421\n",
      "Epoch 2/20\n",
      "35/35 - 6s - 177ms/step - loss: 0.0123\n",
      "Epoch 3/20\n",
      "35/35 - 7s - 194ms/step - loss: 0.0106\n",
      "Epoch 4/20\n",
      "35/35 - 6s - 170ms/step - loss: 0.0096\n",
      "Epoch 5/20\n",
      "35/35 - 5s - 154ms/step - loss: 0.0097\n",
      "Epoch 6/20\n",
      "35/35 - 5s - 149ms/step - loss: 0.0076\n",
      "Epoch 7/20\n",
      "35/35 - 5s - 145ms/step - loss: 0.0072\n",
      "Epoch 8/20\n",
      "35/35 - 5s - 144ms/step - loss: 0.0066\n",
      "Epoch 9/20\n",
      "35/35 - 5s - 143ms/step - loss: 0.0067\n",
      "Epoch 10/20\n",
      "35/35 - 5s - 150ms/step - loss: 0.0070\n",
      "Epoch 11/20\n",
      "35/35 - 5s - 150ms/step - loss: 0.0058\n",
      "Epoch 12/20\n",
      "35/35 - 5s - 149ms/step - loss: 0.0060\n",
      "Epoch 13/20\n",
      "35/35 - 5s - 145ms/step - loss: 0.0063\n",
      "Epoch 14/20\n",
      "35/35 - 5s - 143ms/step - loss: 0.0056\n",
      "Epoch 15/20\n",
      "35/35 - 5s - 144ms/step - loss: 0.0065\n",
      "Epoch 16/20\n",
      "35/35 - 5s - 149ms/step - loss: 0.0064\n",
      "Epoch 17/20\n",
      "35/35 - 5s - 152ms/step - loss: 0.0052\n",
      "Epoch 18/20\n",
      "35/35 - 6s - 159ms/step - loss: 0.0072\n",
      "Epoch 19/20\n",
      "35/35 - 5s - 147ms/step - loss: 0.0051\n",
      "Epoch 20/20\n",
      "35/35 - 5s - 148ms/step - loss: 0.0043\n"
     ]
    }
   ],
   "source": [
    "hist = model.fit(X_train, y_train, epochs = 20, batch_size = 32, verbose=2)"
   ]
  },
  {
   "cell_type": "code",
   "execution_count": 11,
   "metadata": {},
   "outputs": [
    {
     "data": {
      "image/png": "[encoded data removed]",
      "text/plain": [
       "<Figure size 640x480 with 1 Axes>"
      ]
     },
     "metadata": {},
     "output_type": "display_data"
    }
   ],
   "source": [
    "plt.plot(hist.history['loss'])\n",
    "plt.title('Training model loss')\n",
    "plt.ylabel('loss')\n",
    "plt.xlabel('epoch')\n",
    "plt.legend(['train'], loc='upper left')\n",
    "plt.show()"
   ]
  },
  {
   "cell_type": "code",
   "execution_count": 12,
   "metadata": {},
   "outputs": [
    {
     "data": {
      "text/plain": [
       "(192, 60, 1)"
      ]
     },
     "execution_count": 12,
     "metadata": {},
     "output_type": "execute_result"
    }
   ],
   "source": [
    "testData = pd.read_csv('Google_test_data.csv')\n",
    "testData[\"Close\"]=pd.to_numeric(testData.Close,errors='coerce')\n",
    "testData = testData.dropna()\n",
    "testData = testData.iloc[:,4:5]\n",
    "y_test = testData.iloc[60:,0:].values \n",
    "#input array for the model\n",
    "inputClosing = testData.iloc[:,0:].values \n",
    "inputClosing_scaled = sc.transform(inputClosing)\n",
    "inputClosing_scaled.shape\n",
    "X_test = []\n",
    "length = len(testData)\n",
    "timestep = 60\n",
    "for i in range(timestep,length):  \n",
    "    X_test.append(inputClosing_scaled[i-timestep:i,0])\n",
    "X_test = np.array(X_test)\n",
    "X_test = np.reshape(X_test,(X_test.shape[0],X_test.shape[1],1))\n",
    "X_test.shape"
   ]
  },
  {
   "cell_type": "code",
   "execution_count": 13,
   "metadata": {},
   "outputs": [
    {
     "name": "stdout",
     "output_type": "stream",
     "text": [
      "\u001b[1m6/6\u001b[0m \u001b[32m━━━━━━━━━━━━━━━━━━━━\u001b[0m\u001b[37m\u001b[0m \u001b[1m1s\u001b[0m 77ms/step\n"
     ]
    },
    {
     "data": {
      "text/plain": [
       "array([[1.1835895],\n",
       "       [1.1866437],\n",
       "       [1.1985004],\n",
       "       [1.2167184],\n",
       "       [1.2321709],\n",
       "       [1.2339836],\n",
       "       [1.2219667],\n",
       "       [1.2039773],\n",
       "       [1.1916983],\n",
       "       [1.1879823],\n",
       "       [1.1813148],\n",
       "       [1.1700009],\n",
       "       [1.1593108],\n",
       "       [1.1492994],\n",
       "       [1.1463959],\n",
       "       [1.1504344],\n",
       "       [1.1684039],\n",
       "       [1.1977049],\n",
       "       [1.2319824],\n",
       "       [1.2665101],\n",
       "       [1.2822187],\n",
       "       [1.2807064],\n",
       "       [1.2610275],\n",
       "       [1.2312487],\n",
       "       [1.2032963],\n",
       "       [1.186257 ],\n",
       "       [1.1809582],\n",
       "       [1.1795222],\n",
       "       [1.1718209],\n",
       "       [1.160034 ],\n",
       "       [1.1468524],\n",
       "       [1.1321269],\n",
       "       [1.1110202],\n",
       "       [1.0851   ],\n",
       "       [1.0733439],\n",
       "       [1.0818034],\n",
       "       [1.1041211],\n",
       "       [1.1307731],\n",
       "       [1.1566852],\n",
       "       [1.1712283],\n",
       "       [1.1851394],\n",
       "       [1.2014972],\n",
       "       [1.2203737],\n",
       "       [1.2382106],\n",
       "       [1.2507098],\n",
       "       [1.2532626],\n",
       "       [1.2439022],\n",
       "       [1.2343508],\n",
       "       [1.2308663],\n",
       "       [1.2357556],\n",
       "       [1.2482654],\n",
       "       [1.2572949],\n",
       "       [1.2599033],\n",
       "       [1.2567253],\n",
       "       [1.2544519],\n",
       "       [1.2503122],\n",
       "       [1.2416173],\n",
       "       [1.2366396],\n",
       "       [1.2446103],\n",
       "       [1.2624165],\n",
       "       [1.2888314],\n",
       "       [1.3210704],\n",
       "       [1.3446985],\n",
       "       [1.3503181],\n",
       "       [1.3393654],\n",
       "       [1.319225 ],\n",
       "       [1.3041192],\n",
       "       [1.2983309],\n",
       "       [1.3006781],\n",
       "       [1.3054531],\n",
       "       [1.3105026],\n",
       "       [1.3134248],\n",
       "       [1.3095804],\n",
       "       [1.3034728],\n",
       "       [1.2980701],\n",
       "       [1.2961158],\n",
       "       [1.2977979],\n",
       "       [1.302693 ],\n",
       "       [1.3144213],\n",
       "       [1.3325385],\n",
       "       [1.3562527],\n",
       "       [1.3795216],\n",
       "       [1.3936919],\n",
       "       [1.3969319],\n",
       "       [1.4008539],\n",
       "       [1.4131864],\n",
       "       [1.431591 ],\n",
       "       [1.4482006],\n",
       "       [1.458359 ],\n",
       "       [1.4614094],\n",
       "       [1.4630816],\n",
       "       [1.4721045],\n",
       "       [1.4892229],\n",
       "       [1.5018122],\n",
       "       [1.5019661],\n",
       "       [1.4893577],\n",
       "       [1.4668217],\n",
       "       [1.4401282],\n",
       "       [1.4169118],\n",
       "       [1.4067619],\n",
       "       [1.4110507],\n",
       "       [1.4260745],\n",
       "       [1.4476386],\n",
       "       [1.4675142],\n",
       "       [1.4804554],\n",
       "       [1.4840636],\n",
       "       [1.4819239],\n",
       "       [1.4781181],\n",
       "       [1.4784313],\n",
       "       [1.4838241],\n",
       "       [1.493491 ],\n",
       "       [1.5068403],\n",
       "       [1.5205722],\n",
       "       [1.5351509],\n",
       "       [1.5529056],\n",
       "       [1.568395 ],\n",
       "       [1.5805315],\n",
       "       [1.5909337],\n",
       "       [1.6034929],\n",
       "       [1.5876186],\n",
       "       [1.5408778],\n",
       "       [1.4789519],\n",
       "       [1.4260238],\n",
       "       [1.3935694],\n",
       "       [1.3775545],\n",
       "       [1.3708737],\n",
       "       [1.3684032],\n",
       "       [1.368711 ],\n",
       "       [1.3625214],\n",
       "       [1.3472403],\n",
       "       [1.3392066],\n",
       "       [1.346969 ],\n",
       "       [1.362745 ],\n",
       "       [1.3729395],\n",
       "       [1.3768939],\n",
       "       [1.3772274],\n",
       "       [1.3734255],\n",
       "       [1.365207 ],\n",
       "       [1.3551344],\n",
       "       [1.3413013],\n",
       "       [1.3262694],\n",
       "       [1.3095   ],\n",
       "       [1.2762234],\n",
       "       [1.2349001],\n",
       "       [1.1937312],\n",
       "       [1.1605979],\n",
       "       [1.1445638],\n",
       "       [1.1490711],\n",
       "       [1.168482 ],\n",
       "       [1.1938632],\n",
       "       [1.2207047],\n",
       "       [1.2439281],\n",
       "       [1.26246  ],\n",
       "       [1.278433 ],\n",
       "       [1.2914218],\n",
       "       [1.3028047],\n",
       "       [1.3147368],\n",
       "       [1.3245686],\n",
       "       [1.3231446],\n",
       "       [1.3091828],\n",
       "       [1.2870433],\n",
       "       [1.2644705],\n",
       "       [1.2507449],\n",
       "       [1.2508582],\n",
       "       [1.2644612],\n",
       "       [1.2879608],\n",
       "       [1.3104193],\n",
       "       [1.3279504],\n",
       "       [1.3432169],\n",
       "       [1.3572526],\n",
       "       [1.3691181],\n",
       "       [1.3789212],\n",
       "       [1.3868213],\n",
       "       [1.3903767],\n",
       "       [1.3894731],\n",
       "       [1.3812062],\n",
       "       [1.3698968],\n",
       "       [1.3613797],\n",
       "       [1.3552383],\n",
       "       [1.3494512],\n",
       "       [1.3748392],\n",
       "       [1.4262118],\n",
       "       [1.4815804],\n",
       "       [1.5224868],\n",
       "       [1.5411363],\n",
       "       [1.5367589],\n",
       "       [1.5061303],\n",
       "       [1.4658798],\n",
       "       [1.4301383],\n",
       "       [1.4137524],\n",
       "       [1.411743 ],\n",
       "       [1.4136711]], dtype=float32)"
      ]
     },
     "execution_count": 13,
     "metadata": {},
     "output_type": "execute_result"
    }
   ],
   "source": [
    "y_pred = model.predict(X_test)\n",
    "y_pred"
   ]
  },
  {
   "cell_type": "code",
   "execution_count": 14,
   "metadata": {},
   "outputs": [],
   "source": [
    "predicted_price = sc.inverse_transform(y_pred)"
   ]
  },
  {
   "cell_type": "code",
   "execution_count": 15,
   "metadata": {},
   "outputs": [
    {
     "data": {
      "image/png": "[encoded data removed]",
      "text/plain": [
       "<Figure size 640x480 with 1 Axes>"
      ]
     },
     "metadata": {},
     "output_type": "display_data"
    }
   ],
   "source": [
    "plt.plot(y_test, color = 'red', label = 'Actual Stock Price')\n",
    "plt.plot(predicted_price, color = 'green', label = 'Predicted Stock Price')\n",
    "plt.title('Google stock price prediction')\n",
    "plt.xlabel('Time')\n",
    "plt.ylabel('Stock Price')\n",
    "plt.legend()\n",
    "plt.show()"
   ]
  },
  {
   "cell_type": "code",
   "execution_count": null,
   "metadata": {},
   "outputs": [],
   "source": []
  }
 ],
 "metadata": {
  "kernelspec": {
   "display_name": "Python 3",
   "language": "python",
   "name": "python3"
  },
  "language_info": {
   "codemirror_mode": {
    "name": "ipython",
    "version": 3
   },
   "file_extension": ".py",
   "mimetype": "text/x-python",
   "name": "python",
   "nbconvert_exporter": "python",
   "pygments_lexer": "ipython3",
   "version": "3.12.3"
  }
 },
 "nbformat": 4,
 "nbformat_minor": 4
}
